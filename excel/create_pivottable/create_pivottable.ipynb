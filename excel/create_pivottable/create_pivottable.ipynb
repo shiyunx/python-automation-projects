{
  "nbformat": 4,
  "nbformat_minor": 0,
  "metadata": {
    "colab": {
      "provenance": []
    },
    "kernelspec": {
      "name": "python3",
      "display_name": "Python 3"
    },
    "language_info": {
      "name": "python"
    }
  },
  "cells": [
    {
      "cell_type": "code",
      "execution_count": 9,
      "metadata": {
        "colab": {
          "base_uri": "https://localhost:8080/"
        },
        "id": "T8oOsKGVS0tO",
        "outputId": "ac816fbc-9efd-47ad-d0fe-26e095103ec6"
      },
      "outputs": [
        {
          "output_type": "stream",
          "name": "stdout",
          "text": [
            "     gender test preparation course  math score\n",
            "0    female                    none          72\n",
            "1    female               completed          69\n",
            "2    female                    none          90\n",
            "3      male                    none          47\n",
            "4      male                    none          76\n",
            "..      ...                     ...         ...\n",
            "995  female               completed          88\n",
            "996    male                    none          62\n",
            "997  female               completed          59\n",
            "998  female               completed          68\n",
            "999  female                    none          77\n",
            "\n",
            "[1000 rows x 3 columns]\n",
            "test preparation course  completed   none\n",
            "gender                                   \n",
            "female                       12364  20598\n",
            "male                         12587  20540\n"
          ]
        },
        {
          "output_type": "stream",
          "name": "stderr",
          "text": [
            "<ipython-input-9-1891feba3b85>:18: FutureWarning: Starting with pandas version 3.0 all arguments of to_excel except for the argument 'excel_writer' will be keyword-only.\n",
            "  pivottable.to_excel(\"pivottable.xlsx\", \"Mathscore_Report\", startrow=4)\n"
          ]
        }
      ],
      "source": [
        "import pandas as pd\n",
        "\n",
        "df = pd.read_excel(\"studentsperformance.xlsx\")\n",
        "\n",
        "# Selected excel table columns\n",
        "df = df[[\"gender\", \"test preparation course\", \"math score\" ]]\n",
        "print(df)\n",
        "\n",
        "# Create pivottable\n",
        "# gender - index, test preparation course - column\n",
        "pivottable = df.pivot_table(index=\"gender\", columns=\"test preparation course\",\n",
        "                            values=\"math score\", aggfunc=\"sum\").round(0)\n",
        "\n",
        "print(pivottable)\n",
        "\n",
        "# Export to excel\n",
        "# pivottable.to_excel(file_format, sheet_name, print_row)\n",
        "pivottable.to_excel(\"pivottable.xlsx\", \"Mathscore_Report\", startrow=4)"
      ]
    }
  ]
}